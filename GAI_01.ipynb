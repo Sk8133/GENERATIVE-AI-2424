{
  "nbformat": 4,
  "nbformat_minor": 0,
  "metadata": {
    "colab": {
      "provenance": [],
      "authorship_tag": "ABX9TyOljPrzXFqF/uysrz8UZInL",
      "include_colab_link": true
    },
    "kernelspec": {
      "name": "python3",
      "display_name": "Python 3"
    },
    "language_info": {
      "name": "python"
    }
  },
  "cells": [
    {
      "cell_type": "markdown",
      "metadata": {
        "id": "view-in-github",
        "colab_type": "text"
      },
      "source": [
        "<a href=\"https://colab.research.google.com/github/Sk8133/GENERATIVE-AI-2424/blob/main/GAI_01.ipynb\" target=\"_parent\"><img src=\"https://colab.research.google.com/assets/colab-badge.svg\" alt=\"Open In Colab\"/></a>"
      ]
    },
    {
      "cell_type": "markdown",
      "source": [
        "#QUESTION  **01**"
      ],
      "metadata": {
        "id": "OMudJ5Z2ETjF"
      }
    },
    {
      "cell_type": "code",
      "source": [
        "def calculate_errors(actual, predicted):\n",
        "    if len(actual) != len(predicted):\n",
        "        raise ValueError(\"The length of actual and predicted lists must be the same.\")\n",
        "\n",
        "    n = len(actual)\n",
        "    mse_sum = 0\n",
        "    mae_sum = 0\n",
        "\n",
        "    for a, p in zip(actual, predicted):\n",
        "        mse_sum += (a - p) ** 2\n",
        "        mae_sum += abs(a - p)\n",
        "\n",
        "    mse = mse_sum / n\n",
        "    rmse = (mse) ** 0.5\n",
        "    mae = mae_sum / n\n",
        "\n",
        "    return mse, rmse, mae, n\n",
        "\n",
        "def get_user_input(prompt):\n",
        "    user_input = input(prompt)\n",
        "    return [float(x) for x in user_input.split(',')]\n",
        "\n",
        "if __name__ == \"__main__\":\n",
        "    print(\"Enter actual values (comma-separated):\")\n",
        "    actual_values = get_user_input(\"Actual: \")\n",
        "\n",
        "    print(\"Enter predicted values (comma-separated):\")\n",
        "    predicted_values = get_user_input(\"Predicted: \")\n",
        "\n",
        "    try:\n",
        "        mse, rmse, mae, n = calculate_errors(actual_values, predicted_values)\n",
        "        print(f\"Number of elements: {n}\")\n",
        "        print(f\"MSE: {mse}\")\n",
        "        print(f\"RMSE: {rmse}\")\n",
        "        print(f\"MAE: {mae}\")\n",
        "    except ValueError as e:\n",
        "        print(e)"
      ],
      "metadata": {
        "colab": {
          "base_uri": "https://localhost:8080/"
        },
        "id": "gCVVnKih_Gpw",
        "outputId": "34162bd8-b6f3-4e46-91ce-ccb1f0a6ec49"
      },
      "execution_count": null,
      "outputs": [
        {
          "output_type": "stream",
          "name": "stdout",
          "text": [
            "Enter actual values (comma-separated):\n",
            "Actual: 20,30,40,50,60\n",
            "Enter predicted values (comma-separated):\n",
            "Predicted: 20.5,30.3,40.2,50.6,60.7\n",
            "Number of elements: 5\n",
            "MSE: 0.24600000000000147\n",
            "RMSE: 0.49598387070549127\n",
            "MAE: 0.4600000000000016\n"
          ]
        }
      ]
    },
    {
      "cell_type": "code",
      "source": [],
      "metadata": {
        "id": "fI7qz8OzIvtG"
      },
      "execution_count": null,
      "outputs": []
    }
  ]
}