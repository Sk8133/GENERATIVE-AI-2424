{
  "nbformat": 4,
  "nbformat_minor": 0,
  "metadata": {
    "colab": {
      "provenance": [],
      "authorship_tag": "ABX9TyOzKUQIAFE9f0W1+bve49Cz",
      "include_colab_link": true
    },
    "kernelspec": {
      "name": "python3",
      "display_name": "Python 3"
    },
    "language_info": {
      "name": "python"
    }
  },
  "cells": [
    {
      "cell_type": "markdown",
      "metadata": {
        "id": "view-in-github",
        "colab_type": "text"
      },
      "source": [
        "<a href=\"https://colab.research.google.com/github/Sk8133/GENERATIVE-AI-2424/blob/main/GAI_02.ipynb\" target=\"_parent\"><img src=\"https://colab.research.google.com/assets/colab-badge.svg\" alt=\"Open In Colab\"/></a>"
      ]
    },
    {
      "cell_type": "code",
      "execution_count": 1,
      "metadata": {
        "colab": {
          "base_uri": "https://localhost:8080/"
        },
        "id": "ecHr2U--PUiP",
        "outputId": "aa117111-a811-4c7a-d958-4c97d083b483"
      },
      "outputs": [
        {
          "output_type": "stream",
          "name": "stdout",
          "text": [
            "Optimal number of units for A: 2\n",
            "Optimal number of units for B: 3\n",
            "Maximum profit: 27\n"
          ]
        }
      ],
      "source": [
        "import numpy as np\n",
        "max_profit=0\n",
        "A=0\n",
        "B=0\n",
        "\n",
        "for x in range(10):\n",
        "    for y in range(10):\n",
        "        if x + y == 5 or 3 * x + 2 * y == 12:\n",
        "            if x + y <= 5 and 3 * x + 2 * y <= 12:\n",
        "                profit = 6 * x + 5 * y\n",
        "                if profit > max_profit:\n",
        "                    max_profit = profit\n",
        "                    A = x\n",
        "                    B = y\n",
        "print(\"Optimal number of units for A:\", A)\n",
        "print(\"Optimal number of units for B:\", B)\n",
        "print(\"Maximum profit:\", max_profit)\n",
        "\n",
        "from scipy.optimize import linprog\n",
        "import numpy as np\n",
        "\n",
        "c = [-6, -5]\n",
        "A = [[1, 1], [3, 2]]\n",
        "b = [5, 12]\n",
        "x_bounds = (0, None)\n",
        "y_bounds = (0, None)\n",
        "bounds = [x_bounds, y_bounds]\n",
        "\n",
        "result = linprog(c, A_ub=A, b_ub=b, bounds=bounds, method=\"highs\")\n",
        "optimal_x, optimal_y = result.x\n",
        "max_profit = -result.fun\n"
      ]
    },
    {
      "cell_type": "code",
      "source": [
        "max_profit=0\n",
        "optimal_x=0\n",
        "optimal_y=0\n",
        "for x in range(111):\n",
        "    for y in range(111):\n",
        "        if x + y == 110 or 7000 * x + 2000 * y == 700000 or 10 * x + 30 * y == 1200:\n",
        "            if x + y <= 110 and 7000 * x + 2000 * y <= 700000 and 10 * x + 30 * y <= 1200:\n",
        "                profit = 50 * x + 120 * y\n",
        "                if profit > max_profit:\n",
        "                    max_profit = profit\n",
        "                    optimal_x = x\n",
        "                    optimal_y = y\n",
        "\n",
        "print(\"Optimal number of hectares for Wheat:\", optimal_x)\n",
        "print(\"Optimal number of hectares for Barley:\", optimal_y)\n",
        "print(\"Maximum profit:\", max_profit)\n",
        "\n",
        "from scipy.optimize import linprog\n",
        "import numpy as np\n",
        "\n",
        "c = [-50, -120]\n",
        "A = [[1, 1], [7000,2000],[10,30]]\n",
        "b = [110,700000,1200]\n",
        "x_bounds = (0, None)\n",
        "y_bounds = (0, None)\n",
        "bounds = [x_bounds, y_bounds]\n",
        "\n",
        "result = linprog(c, A_ub=A, b_ub=b, bounds=bounds, method=\"highs\")\n",
        "optimal_x, optimal_y = result.x\n",
        "max_profit = -result.fun\n",
        "\n",
        "print(\"\\nOptimal Solution:\")\n",
        "print(f\"Optimal number of units for A: {np.round(optimal_x)}\")\n",
        "print(f\"Optimal number of units for B: {np.round(optimal_y)}\")\n",
        "print(f\"Maximum profit: Rs {np.round(max_profit)}\")\n"
      ],
      "metadata": {
        "colab": {
          "base_uri": "https://localhost:8080/"
        },
        "id": "nTbI7TMBQDbo",
        "outputId": "f8a8d66d-4334-4bf9-aa8d-36bc09b6fa47"
      },
      "execution_count": 2,
      "outputs": [
        {
          "output_type": "stream",
          "name": "stdout",
          "text": [
            "Optimal number of hectares for Wheat: 96\n",
            "Optimal number of hectares for Barley: 8\n",
            "Maximum profit: 5760\n",
            "\n",
            "Optimal Solution:\n",
            "Optimal number of units for A: 98.0\n",
            "Optimal number of units for B: 7.0\n",
            "Maximum profit: Rs 5779.0\n"
          ]
        }
      ]
    }
  ]
}